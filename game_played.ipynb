{
 "cells": [
  {
   "cell_type": "code",
   "execution_count": 1,
   "id": "374131a2",
   "metadata": {},
   "outputs": [],
   "source": [
    "import pandas as pd"
   ]
  },
  {
   "cell_type": "code",
   "execution_count": 2,
   "id": "ecdb0f3c",
   "metadata": {},
   "outputs": [],
   "source": [
    "df_last = pd.read_csv(\"장인_챔피언별.csv\", encoding = \"utf-8\")"
   ]
  },
  {
   "cell_type": "code",
   "execution_count": 3,
   "id": "c616fbf7",
   "metadata": {},
   "outputs": [
    {
     "data": {
      "text/plain": [
       "<function TextIOWrapper.close()>"
      ]
     },
     "execution_count": 3,
     "metadata": {},
     "output_type": "execute_result"
    }
   ],
   "source": [
    "import csv\n",
    "data = list()\n",
    "f = open(\"장인_챔피언별.csv\",'r',encoding='utf-8-sig')\n",
    "rea = csv.reader(f)\n",
    "for row in rea:\n",
    "    data.append(row)\n",
    "f.close"
   ]
  },
  {
   "cell_type": "code",
   "execution_count": 6,
   "id": "09aac7fc",
   "metadata": {},
   "outputs": [],
   "source": [
    "name = []"
   ]
  },
  {
   "cell_type": "code",
   "execution_count": 7,
   "id": "b3130f21",
   "metadata": {},
   "outputs": [],
   "source": [
    "for i in range(1,len(data)):\n",
    "    for j in range(1,6):\n",
    "        name.append(data[i][j])"
   ]
  },
  {
   "cell_type": "code",
   "execution_count": 10,
   "id": "a59eb686",
   "metadata": {},
   "outputs": [
    {
     "ename": "ElementClickInterceptedException",
     "evalue": "Message: element click intercepted: Element <img src=\"https://s-lol-web.op.gg/images/icon/icon-arrow-down-blue.svg?v=1695767548184\" width=\"24\" alt=\"More\" height=\"24\"> is not clickable at point (900, 892). Other element would receive the click: <div class=\"vm-footer-content\">...</div>\n  (Session info: chrome=117.0.5938.132)\nStacktrace:\n\tGetHandleVerifier [0x006437C3+48947]\n\t(No symbol) [0x005D8551]\n\t(No symbol) [0x004DC92D]\n\t(No symbol) [0x0050E276]\n\t(No symbol) [0x0050CF4D]\n\t(No symbol) [0x0050B74B]\n\t(No symbol) [0x0050ABA5]\n\t(No symbol) [0x00503420]\n\t(No symbol) [0x0052508C]\n\t(No symbol) [0x00502EB6]\n\t(No symbol) [0x005253E4]\n\t(No symbol) [0x005375DA]\n\t(No symbol) [0x00524E86]\n\t(No symbol) [0x005016C7]\n\t(No symbol) [0x0050284D]\n\tGetHandleVerifier [0x0088FDF9+2458985]\n\tGetHandleVerifier [0x008D744F+2751423]\n\tGetHandleVerifier [0x008D1361+2726609]\n\tGetHandleVerifier [0x006C0680+560624]\n\t(No symbol) [0x005E238C]\n\t(No symbol) [0x005DE268]\n\t(No symbol) [0x005DE392]\n\t(No symbol) [0x005D10B7]\n\tBaseThreadInitThunk [0x76A4FCC9+25]\n\tRtlGetAppContainerNamedObjectPath [0x77DE7B1E+286]\n\tRtlGetAppContainerNamedObjectPath [0x77DE7AEE+238]\n",
     "output_type": "error",
     "traceback": [
      "\u001b[1;31m---------------------------------------------------------------------------\u001b[0m",
      "\u001b[1;31mElementClickInterceptedException\u001b[0m          Traceback (most recent call last)",
      "\u001b[1;32m~\\AppData\\Local\\Temp\\ipykernel_1032\\2442528344.py\u001b[0m in \u001b[0;36m<module>\u001b[1;34m\u001b[0m\n\u001b[0;32m     24\u001b[0m         \u001b[1;31m#//*[@id=\"content-container\"]/div[2]/div[3]/li[1]/div/div[2]/button/img\u001b[0m\u001b[1;33m\u001b[0m\u001b[1;33m\u001b[0m\u001b[0m\n\u001b[0;32m     25\u001b[0m         \u001b[1;31m#//*[@id=\"content-container\"]/div[2]/div[3]/li[13]/div[1]/div[2]/button/img\u001b[0m\u001b[1;33m\u001b[0m\u001b[1;33m\u001b[0m\u001b[0m\n\u001b[1;32m---> 26\u001b[1;33m         \u001b[0mdriver\u001b[0m\u001b[1;33m.\u001b[0m\u001b[0mfind_element\u001b[0m\u001b[1;33m(\u001b[0m\u001b[0mBy\u001b[0m\u001b[1;33m.\u001b[0m\u001b[0mXPATH\u001b[0m\u001b[1;33m,\u001b[0m\u001b[1;34mf'//*[@id=\"content-container\"]/div[2]/div[3]/li[{j}]/div/div[2]/button/img'\u001b[0m\u001b[1;33m)\u001b[0m\u001b[1;33m.\u001b[0m\u001b[0mclick\u001b[0m\u001b[1;33m(\u001b[0m\u001b[1;33m)\u001b[0m \u001b[1;31m#더보기 클릭\u001b[0m\u001b[1;33m\u001b[0m\u001b[1;33m\u001b[0m\u001b[0m\n\u001b[0m\u001b[0;32m     27\u001b[0m         \u001b[0mtime\u001b[0m\u001b[1;33m.\u001b[0m\u001b[0msleep\u001b[0m\u001b[1;33m(\u001b[0m\u001b[1;36m1\u001b[0m\u001b[1;33m)\u001b[0m\u001b[1;33m\u001b[0m\u001b[1;33m\u001b[0m\u001b[0m\n\u001b[0;32m     28\u001b[0m \u001b[1;33m\u001b[0m\u001b[0m\n",
      "\u001b[1;32m~\\anaconda3\\lib\\site-packages\\selenium\\webdriver\\remote\\webelement.py\u001b[0m in \u001b[0;36mclick\u001b[1;34m(self)\u001b[0m\n\u001b[0;32m     92\u001b[0m     \u001b[1;32mdef\u001b[0m \u001b[0mclick\u001b[0m\u001b[1;33m(\u001b[0m\u001b[0mself\u001b[0m\u001b[1;33m)\u001b[0m \u001b[1;33m->\u001b[0m \u001b[1;32mNone\u001b[0m\u001b[1;33m:\u001b[0m\u001b[1;33m\u001b[0m\u001b[1;33m\u001b[0m\u001b[0m\n\u001b[0;32m     93\u001b[0m         \u001b[1;34m\"\"\"Clicks the element.\"\"\"\u001b[0m\u001b[1;33m\u001b[0m\u001b[1;33m\u001b[0m\u001b[0m\n\u001b[1;32m---> 94\u001b[1;33m         \u001b[0mself\u001b[0m\u001b[1;33m.\u001b[0m\u001b[0m_execute\u001b[0m\u001b[1;33m(\u001b[0m\u001b[0mCommand\u001b[0m\u001b[1;33m.\u001b[0m\u001b[0mCLICK_ELEMENT\u001b[0m\u001b[1;33m)\u001b[0m\u001b[1;33m\u001b[0m\u001b[1;33m\u001b[0m\u001b[0m\n\u001b[0m\u001b[0;32m     95\u001b[0m \u001b[1;33m\u001b[0m\u001b[0m\n\u001b[0;32m     96\u001b[0m     \u001b[1;32mdef\u001b[0m \u001b[0msubmit\u001b[0m\u001b[1;33m(\u001b[0m\u001b[0mself\u001b[0m\u001b[1;33m)\u001b[0m\u001b[1;33m:\u001b[0m\u001b[1;33m\u001b[0m\u001b[1;33m\u001b[0m\u001b[0m\n",
      "\u001b[1;32m~\\anaconda3\\lib\\site-packages\\selenium\\webdriver\\remote\\webelement.py\u001b[0m in \u001b[0;36m_execute\u001b[1;34m(self, command, params)\u001b[0m\n\u001b[0;32m    402\u001b[0m             \u001b[0mparams\u001b[0m \u001b[1;33m=\u001b[0m \u001b[1;33m{\u001b[0m\u001b[1;33m}\u001b[0m\u001b[1;33m\u001b[0m\u001b[1;33m\u001b[0m\u001b[0m\n\u001b[0;32m    403\u001b[0m         \u001b[0mparams\u001b[0m\u001b[1;33m[\u001b[0m\u001b[1;34m\"id\"\u001b[0m\u001b[1;33m]\u001b[0m \u001b[1;33m=\u001b[0m \u001b[0mself\u001b[0m\u001b[1;33m.\u001b[0m\u001b[0m_id\u001b[0m\u001b[1;33m\u001b[0m\u001b[1;33m\u001b[0m\u001b[0m\n\u001b[1;32m--> 404\u001b[1;33m         \u001b[1;32mreturn\u001b[0m \u001b[0mself\u001b[0m\u001b[1;33m.\u001b[0m\u001b[0m_parent\u001b[0m\u001b[1;33m.\u001b[0m\u001b[0mexecute\u001b[0m\u001b[1;33m(\u001b[0m\u001b[0mcommand\u001b[0m\u001b[1;33m,\u001b[0m \u001b[0mparams\u001b[0m\u001b[1;33m)\u001b[0m\u001b[1;33m\u001b[0m\u001b[1;33m\u001b[0m\u001b[0m\n\u001b[0m\u001b[0;32m    405\u001b[0m \u001b[1;33m\u001b[0m\u001b[0m\n\u001b[0;32m    406\u001b[0m     \u001b[1;32mdef\u001b[0m \u001b[0mfind_element\u001b[0m\u001b[1;33m(\u001b[0m\u001b[0mself\u001b[0m\u001b[1;33m,\u001b[0m \u001b[0mby\u001b[0m\u001b[1;33m=\u001b[0m\u001b[0mBy\u001b[0m\u001b[1;33m.\u001b[0m\u001b[0mID\u001b[0m\u001b[1;33m,\u001b[0m \u001b[0mvalue\u001b[0m\u001b[1;33m=\u001b[0m\u001b[1;32mNone\u001b[0m\u001b[1;33m)\u001b[0m \u001b[1;33m->\u001b[0m \u001b[0mWebElement\u001b[0m\u001b[1;33m:\u001b[0m\u001b[1;33m\u001b[0m\u001b[1;33m\u001b[0m\u001b[0m\n",
      "\u001b[1;32m~\\anaconda3\\lib\\site-packages\\selenium\\webdriver\\remote\\webdriver.py\u001b[0m in \u001b[0;36mexecute\u001b[1;34m(self, driver_command, params)\u001b[0m\n\u001b[0;32m    438\u001b[0m         \u001b[0mresponse\u001b[0m \u001b[1;33m=\u001b[0m \u001b[0mself\u001b[0m\u001b[1;33m.\u001b[0m\u001b[0mcommand_executor\u001b[0m\u001b[1;33m.\u001b[0m\u001b[0mexecute\u001b[0m\u001b[1;33m(\u001b[0m\u001b[0mdriver_command\u001b[0m\u001b[1;33m,\u001b[0m \u001b[0mparams\u001b[0m\u001b[1;33m)\u001b[0m\u001b[1;33m\u001b[0m\u001b[1;33m\u001b[0m\u001b[0m\n\u001b[0;32m    439\u001b[0m         \u001b[1;32mif\u001b[0m \u001b[0mresponse\u001b[0m\u001b[1;33m:\u001b[0m\u001b[1;33m\u001b[0m\u001b[1;33m\u001b[0m\u001b[0m\n\u001b[1;32m--> 440\u001b[1;33m             \u001b[0mself\u001b[0m\u001b[1;33m.\u001b[0m\u001b[0merror_handler\u001b[0m\u001b[1;33m.\u001b[0m\u001b[0mcheck_response\u001b[0m\u001b[1;33m(\u001b[0m\u001b[0mresponse\u001b[0m\u001b[1;33m)\u001b[0m\u001b[1;33m\u001b[0m\u001b[1;33m\u001b[0m\u001b[0m\n\u001b[0m\u001b[0;32m    441\u001b[0m             \u001b[0mresponse\u001b[0m\u001b[1;33m[\u001b[0m\u001b[1;34m\"value\"\u001b[0m\u001b[1;33m]\u001b[0m \u001b[1;33m=\u001b[0m \u001b[0mself\u001b[0m\u001b[1;33m.\u001b[0m\u001b[0m_unwrap_value\u001b[0m\u001b[1;33m(\u001b[0m\u001b[0mresponse\u001b[0m\u001b[1;33m.\u001b[0m\u001b[0mget\u001b[0m\u001b[1;33m(\u001b[0m\u001b[1;34m\"value\"\u001b[0m\u001b[1;33m,\u001b[0m \u001b[1;32mNone\u001b[0m\u001b[1;33m)\u001b[0m\u001b[1;33m)\u001b[0m\u001b[1;33m\u001b[0m\u001b[1;33m\u001b[0m\u001b[0m\n\u001b[0;32m    442\u001b[0m             \u001b[1;32mreturn\u001b[0m \u001b[0mresponse\u001b[0m\u001b[1;33m\u001b[0m\u001b[1;33m\u001b[0m\u001b[0m\n",
      "\u001b[1;32m~\\anaconda3\\lib\\site-packages\\selenium\\webdriver\\remote\\errorhandler.py\u001b[0m in \u001b[0;36mcheck_response\u001b[1;34m(self, response)\u001b[0m\n\u001b[0;32m    243\u001b[0m                 \u001b[0malert_text\u001b[0m \u001b[1;33m=\u001b[0m \u001b[0mvalue\u001b[0m\u001b[1;33m[\u001b[0m\u001b[1;34m\"alert\"\u001b[0m\u001b[1;33m]\u001b[0m\u001b[1;33m.\u001b[0m\u001b[0mget\u001b[0m\u001b[1;33m(\u001b[0m\u001b[1;34m\"text\"\u001b[0m\u001b[1;33m)\u001b[0m\u001b[1;33m\u001b[0m\u001b[1;33m\u001b[0m\u001b[0m\n\u001b[0;32m    244\u001b[0m             \u001b[1;32mraise\u001b[0m \u001b[0mexception_class\u001b[0m\u001b[1;33m(\u001b[0m\u001b[0mmessage\u001b[0m\u001b[1;33m,\u001b[0m \u001b[0mscreen\u001b[0m\u001b[1;33m,\u001b[0m \u001b[0mstacktrace\u001b[0m\u001b[1;33m,\u001b[0m \u001b[0malert_text\u001b[0m\u001b[1;33m)\u001b[0m  \u001b[1;31m# type: ignore[call-arg]  # mypy is not smart enough here\u001b[0m\u001b[1;33m\u001b[0m\u001b[1;33m\u001b[0m\u001b[0m\n\u001b[1;32m--> 245\u001b[1;33m         \u001b[1;32mraise\u001b[0m \u001b[0mexception_class\u001b[0m\u001b[1;33m(\u001b[0m\u001b[0mmessage\u001b[0m\u001b[1;33m,\u001b[0m \u001b[0mscreen\u001b[0m\u001b[1;33m,\u001b[0m \u001b[0mstacktrace\u001b[0m\u001b[1;33m)\u001b[0m\u001b[1;33m\u001b[0m\u001b[1;33m\u001b[0m\u001b[0m\n\u001b[0m",
      "\u001b[1;31mElementClickInterceptedException\u001b[0m: Message: element click intercepted: Element <img src=\"https://s-lol-web.op.gg/images/icon/icon-arrow-down-blue.svg?v=1695767548184\" width=\"24\" alt=\"More\" height=\"24\"> is not clickable at point (900, 892). Other element would receive the click: <div class=\"vm-footer-content\">...</div>\n  (Session info: chrome=117.0.5938.132)\nStacktrace:\n\tGetHandleVerifier [0x006437C3+48947]\n\t(No symbol) [0x005D8551]\n\t(No symbol) [0x004DC92D]\n\t(No symbol) [0x0050E276]\n\t(No symbol) [0x0050CF4D]\n\t(No symbol) [0x0050B74B]\n\t(No symbol) [0x0050ABA5]\n\t(No symbol) [0x00503420]\n\t(No symbol) [0x0052508C]\n\t(No symbol) [0x00502EB6]\n\t(No symbol) [0x005253E4]\n\t(No symbol) [0x005375DA]\n\t(No symbol) [0x00524E86]\n\t(No symbol) [0x005016C7]\n\t(No symbol) [0x0050284D]\n\tGetHandleVerifier [0x0088FDF9+2458985]\n\tGetHandleVerifier [0x008D744F+2751423]\n\tGetHandleVerifier [0x008D1361+2726609]\n\tGetHandleVerifier [0x006C0680+560624]\n\t(No symbol) [0x005E238C]\n\t(No symbol) [0x005DE268]\n\t(No symbol) [0x005DE392]\n\t(No symbol) [0x005D10B7]\n\tBaseThreadInitThunk [0x76A4FCC9+25]\n\tRtlGetAppContainerNamedObjectPath [0x77DE7B1E+286]\n\tRtlGetAppContainerNamedObjectPath [0x77DE7AEE+238]\n"
     ]
    }
   ],
   "source": [
    "from bs4 import BeautifulSoup\n",
    "from selenium import webdriver\n",
    "from selenium.webdriver.common.keys import Keys\n",
    "from selenium.webdriver.common.by import By\n",
    "import time\n",
    "\n",
    "result = [] # 결과값 어캐 저장할껀데\n",
    "for i in name:\n",
    "    driver = webdriver.Chrome()\n",
    "    driver.get('http://op.gg')\n",
    "    time.sleep(1)\n",
    "\n",
    "    elem = driver.find_element(\"name\", \"search\")\n",
    "    elem.send_keys(i) # 장인이름 160*5개 들갈예정\n",
    "    elem.send_keys(Keys.RETURN) #엔터키임\n",
    "    time.sleep(1)\n",
    "\n",
    "    # //*[@id=\"content-container\"]/div[2]/div[1]/ul/li[2]/button\n",
    "    driver.find_element(By.XPATH,'//*[@id=\"content-container\"]/div[2]/div[1]/ul/li[2]/button').click() #솔로랭크 클릭\n",
    "    time.sleep(1)\n",
    "    \n",
    "    team_champ = []\n",
    "    for j in range(1,21):\n",
    "        #//*[@id=\"content-container\"]/div[2]/div[3]/li[1]/div/div[2]/button/img\n",
    "        #//*[@id=\"content-container\"]/div[2]/div[3]/li[13]/div[1]/div[2]/button/img\n",
    "        driver.find_element(By.XPATH,f'//*[@id=\"content-container\"]/div[2]/div[3]/li[{j}]/div/div[2]/button/img').click() #더보기 클릭\n",
    "        time.sleep(1)    \n",
    "\n",
    "        # //*[@id=\"content-container\"]/div[2]/div[3]/li[1]/div/div[1]/div/div[1]/div[4]\n",
    "        # //*[@id=\"content-container\"]/div[2]/div[3]/li[20]/div/div[1]/div/div[1]/div[4]\n",
    "        vic_x = driver.find_element(By.XPATH,f'//*[@id=\"content-container\"]/div[2]/div[3]/li[{j}]/div/div[1]/div/div[1]/div[4]') #승패 가져오기 (xpath로 할지 생각중 20개 결과 xpath 확인해보기)\n",
    "        vic = vic_x.text\n",
    "        team_champ.append(vic)\n",
    "\n",
    "        # //*[@id=\"content-container\"]/div[2]/div[3]/li[1]/div[2]/div[1]/table[1]/tbody/tr[1]/td[1]/a/div/img\n",
    "        # //*[@id=\"content-container\"]/div[2]/div[3]/li[1]/div[2]/div[1]/table[1]/tbody/tr[2]/td[1]/a/div/img\n",
    "        # //*[@id=\"content-container\"]/div[2]/div[3]/li[19]/div[2]/div[1]/table[1]/tbody/tr[2]/td[1]/a/div/img\n",
    "        for i in range(1,6):\n",
    "            team_champ_x = driver.find_element(By.XPATH,f'//*[@id=\"content-container\"]/div[2]/div[3]/li[{j}]/div[2]/div[1]/table[1]/tbody/tr[{i}]/td[1]/a/div/img')\n",
    "            team_champ.append(team_champ_x.get_attribute(\"alt\")) # 우리팀 뭐하는지 살펴보기 \n",
    "        result.append(team_champ)\n",
    "    driver.quit()\n",
    "\n",
    "print(result)"
   ]
  },
  {
   "cell_type": "code",
   "execution_count": null,
   "id": "45f83298",
   "metadata": {},
   "outputs": [],
   "source": []
  }
 ],
 "metadata": {
  "kernelspec": {
   "display_name": "Python 3 (ipykernel)",
   "language": "python",
   "name": "python3"
  },
  "language_info": {
   "codemirror_mode": {
    "name": "ipython",
    "version": 3
   },
   "file_extension": ".py",
   "mimetype": "text/x-python",
   "name": "python",
   "nbconvert_exporter": "python",
   "pygments_lexer": "ipython3",
   "version": "3.9.13"
  }
 },
 "nbformat": 4,
 "nbformat_minor": 5
}
