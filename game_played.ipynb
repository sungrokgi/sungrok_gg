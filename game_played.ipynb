{
 "cells": [
  {
   "cell_type": "code",
   "execution_count": 1,
   "id": "374131a2",
   "metadata": {},
   "outputs": [],
   "source": [
    "import pandas as pd"
   ]
  },
  {
   "cell_type": "code",
   "execution_count": 2,
   "id": "ecdb0f3c",
   "metadata": {},
   "outputs": [],
   "source": [
    "df_last = pd.read_csv(\"장인_챔피언별.csv\", encoding = \"utf-8\")"
   ]
  },
  {
   "cell_type": "code",
   "execution_count": 3,
   "id": "c616fbf7",
   "metadata": {},
   "outputs": [
    {
     "data": {
      "text/plain": [
       "<function TextIOWrapper.close()>"
      ]
     },
     "execution_count": 3,
     "metadata": {},
     "output_type": "execute_result"
    }
   ],
   "source": [
    "import csv\n",
    "data = list()\n",
    "f = open(\"장인_챔피언별.csv\",'r',encoding='utf-8-sig')\n",
    "rea = csv.reader(f)\n",
    "for row in rea:\n",
    "    data.append(row)\n",
    "f.close"
   ]
  },
  {
   "cell_type": "code",
   "execution_count": null,
   "id": "b3130f21",
   "metadata": {},
   "outputs": [],
   "source": [
    "for i in range(1,len(data)):\n",
    "    for j in range(1,6):\n",
    "        print(data[i][j])"
   ]
  },
  {
   "cell_type": "code",
   "execution_count": 26,
   "id": "2e6f3333",
   "metadata": {},
   "outputs": [
    {
     "name": "stdout",
     "output_type": "stream",
     "text": [
      "승리\n",
      "가렌\n",
      "릴리아\n",
      "야스오\n",
      "진\n",
      "렐\n"
     ]
    }
   ],
   "source": [
    "from bs4 import BeautifulSoup\n",
    "from selenium import webdriver\n",
    "from selenium.webdriver.common.keys import Keys\n",
    "from selenium.webdriver.common.by import By\n",
    "import time\n",
    "\n",
    "driver = webdriver.Chrome()\n",
    "driver.get('http://op.gg')\n",
    "time.sleep(1)\n",
    "\n",
    "elem = driver.find_element(\"name\", \"search\")\n",
    "elem.send_keys(\"천근만근차범근\") # 장인이름 160*5개 들갈예정\n",
    "elem.send_keys(Keys.RETURN) #엔터키임\n",
    "time.sleep(1)\n",
    "\n",
    "# //*[@id=\"content-container\"]/div[2]/div[1]/ul/li[2]/button\n",
    "driver.find_element(By.XPATH,'//*[@id=\"content-container\"]/div[2]/div[1]/ul/li[2]/button').click() #솔로랭크 클릭\n",
    "time.sleep(1)\n",
    "\n",
    "result = [] # 결과값 어캐 저장할껀데\n",
    "for j in range(1,21):\n",
    "    # //*[@id=\"content-container\"]/div[2]/div[3]/li[1]/div/div[1]/div/div[1]/div[4]\n",
    "    # //*[@id=\"content-container\"]/div[2]/div[3]/li[20]/div/div[1]/div/div[1]/div[4]\n",
    "    vic_x = driver.find_element(By.XPATH,f'//*[@id=\"content-container\"]/div[2]/div[3]/li[{j}]/div/div[1]/div/div[1]/div[4]') #승패 가져오기 (xpath로 할지 생각중 20개 결과 xpath 확인해보기)\n",
    "    vic = vic_x.text\n",
    "    result.append(vic)\n",
    "\n",
    "    # //*[@id=\"content-container\"]/div[2]/div[3]/li[1]/div/div[1]/div/div[3]/ul[1]/li[1]/div[1]/img\n",
    "    # //*[@id=\"content-container\"]/div[2]/div[3]/li[2]/div/div[1]/div/div[3]/ul[1]/li[1]/div[1]/img\n",
    "    #//*[@id=\"content-container\"]/div[2]/div[3]/li[20]/div/div[1]/div/div[3]/ul[1]/li[1]/div[1]/img\n",
    "    team_champ = []\n",
    "    for i in range(1,6):\n",
    "        team_champ_x = driver.find_element(By.XPATH,f'//*[@id=\"content-container\"]/div[2]/div[3]/li[{j}]/div/div[1]/div/div[3]/ul[1]/li[{i}]/div[1]/img')\n",
    "        team_champ.append = team_champ_x.get_attribute(\"alt\") # 우리팀 뭐하는지 살펴보기 \n",
    "    result.append(team_champ)\n",
    "\n",
    "# driver.quit()"
   ]
  },
  {
   "cell_type": "code",
   "execution_count": null,
   "id": "aa955b34",
   "metadata": {},
   "outputs": [],
   "source": []
  },
  {
   "cell_type": "code",
   "execution_count": 30,
   "id": "a59eb686",
   "metadata": {},
   "outputs": [
    {
     "name": "stdout",
     "output_type": "stream",
     "text": [
      "['승리', ['가렌', '릴리아', '야스오', '진', '렐'], '승리', ['요네', '카직스', '피즈', '시비르', '파이크'], '승리', ['갱플랭크', '나서스', '피즈', '진', '자이라'], '패배', ['트런들', '자르반 4세', '피즈', '닐라', '사일러스'], '패배', ['크산테', '사일러스', '피즈', '아펠리오스', '라칸'], '패배', ['케일', '사일러스', '잭스', '제리', '자이라'], '승리', ['케일', '리 신', '레넥톤', '징크스', '룰루'], '패배', ['모데카이저', '리 신', '요네', '애쉬', '쓰레쉬'], '패배', ['요네', '리 신', '제라스', '진', '미스 포츈'], '승리', ['루시안', '리 신', '제드', '이즈리얼', '카르마'], '승리', ['모데카이저', '리 신', '야스오', '사미라', '렐'], '승리', ['루시안', '리 신', '트위스티드 페이트', '이즈리얼', '애니'], '패배', ['아트록스', '자르반 4세', '피즈', '이즈리얼', '판테온'], '패배', ['모데카이저', '리 신', '피즈', '자야', '라칸'], '승리', ['아트록스', '샤코', '아크샨', '루시안', '브라움'], '패배', ['우르곳', '자크', '다이애나', '징크스', '벨코즈'], '패배', ['레넥톤', '사일러스', '피즈', '코그모', '쓰레쉬'], '다시하기', ['크산테', '사일러스', '파이크', '티모', '판테온'], '패배', ['피오라', '사일러스', '가렌', '자야', '라칸'], '승리', ['세트', '사일러스', '볼리베어', '사미라', '마오카이']]\n"
     ]
    }
   ],
   "source": [
    "from bs4 import BeautifulSoup\n",
    "from selenium import webdriver\n",
    "from selenium.webdriver.common.keys import Keys\n",
    "from selenium.webdriver.common.by import By\n",
    "import time\n",
    "\n",
    "driver = webdriver.Chrome()\n",
    "driver.get('http://op.gg')\n",
    "time.sleep(1)\n",
    "\n",
    "elem = driver.find_element(\"name\", \"search\")\n",
    "elem.send_keys(\"천근만근차범근\") # 장인이름 160*5개 들갈예정\n",
    "elem.send_keys(Keys.RETURN) #엔터키임\n",
    "time.sleep(1)\n",
    "\n",
    "# //*[@id=\"content-container\"]/div[2]/div[1]/ul/li[2]/button\n",
    "driver.find_element(By.XPATH,'//*[@id=\"content-container\"]/div[2]/div[1]/ul/li[2]/button').click() #솔로랭크 클릭\n",
    "time.sleep(1)\n",
    "\n",
    "result = [] # 결과값 어캐 저장할껀데\n",
    "for j in range(1,21):\n",
    "    #//*[@id=\"content-container\"]/div[2]/div[3]/li[1]/div/div[2]/button/img\n",
    "    #//*[@id=\"content-container\"]/div[2]/div[3]/li[13]/div[1]/div[2]/button/img\n",
    "    driver.find_element(By.XPATH,f'//*[@id=\"content-container\"]/div[2]/div[3]/li[{j}]/div/div[2]/button/img').click() #더보기 클릭\n",
    "    time.sleep(1)    \n",
    "    \n",
    "    # //*[@id=\"content-container\"]/div[2]/div[3]/li[1]/div/div[1]/div/div[1]/div[4]\n",
    "    # //*[@id=\"content-container\"]/div[2]/div[3]/li[20]/div/div[1]/div/div[1]/div[4]\n",
    "    vic_x = driver.find_element(By.XPATH,f'//*[@id=\"content-container\"]/div[2]/div[3]/li[{j}]/div/div[1]/div/div[1]/div[4]') #승패 가져오기 (xpath로 할지 생각중 20개 결과 xpath 확인해보기)\n",
    "    vic = vic_x.text\n",
    "    result.append(vic)\n",
    "\n",
    "    # //*[@id=\"content-container\"]/div[2]/div[3]/li[1]/div[2]/div[1]/table[1]/tbody/tr[1]/td[1]/a/div/img\n",
    "    # //*[@id=\"content-container\"]/div[2]/div[3]/li[1]/div[2]/div[1]/table[1]/tbody/tr[2]/td[1]/a/div/img\n",
    "    # //*[@id=\"content-container\"]/div[2]/div[3]/li[19]/div[2]/div[1]/table[1]/tbody/tr[2]/td[1]/a/div/img\n",
    "    team_champ = []\n",
    "    for i in range(1,6):\n",
    "        team_champ_x = driver.find_element(By.XPATH,f'//*[@id=\"content-container\"]/div[2]/div[3]/li[{j}]/div[2]/div[1]/table[1]/tbody/tr[{i}]/td[1]/a/div/img')\n",
    "        team_champ.append(team_champ_x.get_attribute(\"alt\")) # 우리팀 뭐하는지 살펴보기 \n",
    "    result.append(team_champ)\n",
    "print(result)\n",
    "# driver.quit()"
   ]
  },
  {
   "cell_type": "code",
   "execution_count": null,
   "id": "71983cc3",
   "metadata": {},
   "outputs": [],
   "source": []
  }
 ],
 "metadata": {
  "kernelspec": {
   "display_name": "Python 3 (ipykernel)",
   "language": "python",
   "name": "python3"
  },
  "language_info": {
   "codemirror_mode": {
    "name": "ipython",
    "version": 3
   },
   "file_extension": ".py",
   "mimetype": "text/x-python",
   "name": "python",
   "nbconvert_exporter": "python",
   "pygments_lexer": "ipython3",
   "version": "3.11.4"
  }
 },
 "nbformat": 4,
 "nbformat_minor": 5
}
